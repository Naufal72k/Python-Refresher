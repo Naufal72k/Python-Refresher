{
 "cells": [
  {
   "cell_type": "code",
   "execution_count": null,
   "id": "2803b021",
   "metadata": {},
   "outputs": [],
   "source": [
    "import numpy\n",
    "\n",
    "speed = [99]"
   ]
  }
 ],
 "metadata": {
  "language_info": {
   "name": "python"
  }
 },
 "nbformat": 4,
 "nbformat_minor": 5
}

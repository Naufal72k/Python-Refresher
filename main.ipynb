{
 "cells": [
  {
   "cell_type": "code",
   "execution_count": 2,
   "id": "259dad05",
   "metadata": {},
   "outputs": [
    {
     "name": "stdout",
     "output_type": "stream",
     "text": [
      "    cars  passing nopal\n",
      "0    BMW        3   pal\n",
      "1  volvo        4  nopl\n",
      "2   FORD        2  yaya\n"
     ]
    }
   ],
   "source": [
    "import pandas\n",
    "\n",
    "mydatase = {\n",
    "    'cars' : [\"BMW\" , \"volvo\" , \"FORD\" ],\n",
    "    'passing':[3,4,2],\n",
    "    'nopal' : ['pal', 'nopl', 'yaya']\n",
    "} \n",
    "\n",
    "myvar = pandas.DataFrame(mydatase)\n",
    "print (myvar)"
   ]
  },
  {
   "cell_type": "code",
   "execution_count": 5,
   "id": "8084816e",
   "metadata": {},
   "outputs": [
    {
     "name": "stdout",
     "output_type": "stream",
     "text": [
      "2.3.2\n",
      "    cars  passing\n",
      "0    BMW        3\n",
      "1  VOLVO        4\n",
      "2   FORD        2\n"
     ]
    }
   ],
   "source": [
    "import pandas as pd\n",
    "\n",
    "print (pd.__version__)\n",
    "\n",
    "mydatase = {\n",
    "    'cars' : [\"BMW\",\"VOLVO\",\"FORD\"],\n",
    "    'passing' : [3,4,2]\n",
    "}\n",
    "myvar = pd.DataFrame(mydatase)\n",
    "print (myvar)"
   ]
  },
  {
   "cell_type": "markdown",
   "id": "e6cdf966",
   "metadata": {},
   "source": [
    "### PANDAS Series"
   ]
  },
  {
   "cell_type": "markdown",
   "id": "ef5d652f",
   "metadata": {},
   "source": [
    "Seri Pandas seperti kolom dalam tabel"
   ]
  },
  {
   "cell_type": "code",
   "execution_count": null,
   "id": "834d58cf",
   "metadata": {},
   "outputs": [
    {
     "name": "stdout",
     "output_type": "stream",
     "text": [
      "0    1\n",
      "1    7\n",
      "2    2\n",
      "dtype: int64\n"
     ]
    }
   ],
   "source": [
    "import pandas as pd\n",
    "a = [1,7,2]\n",
    "myvar = pd.Series(a)\n",
    "\n",
    "print(myvar)\n",
    "print(myvar)"
   ]
  },
  {
   "cell_type": "code",
   "execution_count": 6,
   "id": "5d874b5f",
   "metadata": {},
   "outputs": [
    {
     "name": "stdout",
     "output_type": "stream",
     "text": [
      "x    1\n",
      "y    7\n",
      "z    2\n",
      "dtype: int64\n",
      "7\n"
     ]
    }
   ],
   "source": [
    "import pandas as pd\n",
    "a= [ 1,7,2]\n",
    "myvar = pd.Series(a,index=['x','y','z'])\n",
    "\n",
    "print(myvar)\n",
    "print(myvar['y'])"
   ]
  },
  {
   "cell_type": "code",
   "execution_count": 7,
   "id": "073729cc",
   "metadata": {},
   "outputs": [
    {
     "name": "stdout",
     "output_type": "stream",
     "text": [
      "day1    420\n",
      "day2    380\n",
      "day3    390\n",
      "dtype: int64\n"
     ]
    }
   ],
   "source": [
    "import pandas as pd\n",
    "\n",
    "calories ={\n",
    "    'day1' : 420,\n",
    "    'day2':380,\n",
    "    'day3': 390\n",
    "}\n",
    "\n",
    "myvar = pd.Series(calories)\n",
    "print(myvar)"
   ]
  },
  {
   "cell_type": "markdown",
   "id": "edad8d86",
   "metadata": {},
   "source": [
    "Buat Seri hanya menggunakan data dari \"hari1\" dan \"hari2\""
   ]
  },
  {
   "cell_type": "code",
   "execution_count": 8,
   "id": "7d2c66ad",
   "metadata": {},
   "outputs": [
    {
     "name": "stdout",
     "output_type": "stream",
     "text": [
      "day1    420\n",
      "day2    380\n",
      "dtype: int64\n"
     ]
    }
   ],
   "source": [
    "import pandas as pd\n",
    "\n",
    "calories ={\n",
    "    'day1' : 420,\n",
    "    'day2':380,\n",
    "    'day3': 390\n",
    "}\n",
    "\n",
    "myvar = pd.Series(calories,index=['day1','day2'])\n",
    "print(myvar)"
   ]
  },
  {
   "cell_type": "markdown",
   "id": "4763ab98",
   "metadata": {},
   "source": []
  }
 ],
 "metadata": {
  "kernelspec": {
   "display_name": "Python 3",
   "language": "python",
   "name": "python3"
  },
  "language_info": {
   "codemirror_mode": {
    "name": "ipython",
    "version": 3
   },
   "file_extension": ".py",
   "mimetype": "text/x-python",
   "name": "python",
   "nbconvert_exporter": "python",
   "pygments_lexer": "ipython3",
   "version": "3.13.7"
  }
 },
 "nbformat": 4,
 "nbformat_minor": 5
}

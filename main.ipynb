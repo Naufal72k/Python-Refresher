{
 "cells": [
  {
   "cell_type": "code",
   "execution_count": 2,
   "id": "259dad05",
   "metadata": {},
   "outputs": [
    {
     "name": "stdout",
     "output_type": "stream",
     "text": [
      "    cars  passing nopal\n",
      "0    BMW        3   pal\n",
      "1  volvo        4  nopl\n",
      "2   FORD        2  yaya\n"
     ]
    }
   ],
   "source": [
    "import pandas\n",
    "\n",
    "mydatase = {\n",
    "    'cars' : [\"BMW\" , \"volvo\" , \"FORD\" ],\n",
    "    'passing':[3,4,2],\n",
    "    'nopal' : ['pal', 'nopl', 'yaya']\n",
    "} \n",
    "\n",
    "myvar = pandas.DataFrame(mydatase)\n",
    "print (myvar)"
   ]
  },
  {
   "cell_type": "code",
   "execution_count": 5,
   "id": "8084816e",
   "metadata": {},
   "outputs": [
    {
     "name": "stdout",
     "output_type": "stream",
     "text": [
      "2.3.2\n",
      "    cars  passing\n",
      "0    BMW        3\n",
      "1  VOLVO        4\n",
      "2   FORD        2\n"
     ]
    }
   ],
   "source": [
    "import pandas as pd\n",
    "\n",
    "print (pd.__version__)\n",
    "\n",
    "mydatase = {\n",
    "    'cars' : [\"BMW\",\"VOLVO\",\"FORD\"],\n",
    "    'passing' : [3,4,2]\n",
    "}\n",
    "myvar = pd.DataFrame(mydatase)\n",
    "print (myvar)"
   ]
  },
  {
   "cell_type": "code",
   "execution_count": null,
   "id": "834d58cf",
   "metadata": {},
   "outputs": [
    {
     "name": "stdout",
     "output_type": "stream",
     "text": [
      "0    1\n",
      "1    7\n",
      "2    2\n",
      "dtype: int64\n"
     ]
    }
   ],
   "source": [
    "import pandas as pd\n",
    "a = [1,7,2]\n",
    "myvar = pd.Series(a)\n",
    "\n",
    "print(myvar)\n",
    "print(myvar)"
   ]
  }
 ],
 "metadata": {
  "kernelspec": {
   "display_name": "Python 3",
   "language": "python",
   "name": "python3"
  },
  "language_info": {
   "codemirror_mode": {
    "name": "ipython",
    "version": 3
   },
   "file_extension": ".py",
   "mimetype": "text/x-python",
   "name": "python",
   "nbconvert_exporter": "python",
   "pygments_lexer": "ipython3",
   "version": "3.13.7"
  }
 },
 "nbformat": 4,
 "nbformat_minor": 5
}
